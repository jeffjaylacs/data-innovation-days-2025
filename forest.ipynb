{
  "cells": [
    {
      "cell_type": "markdown",
      "source": [
        "# Load libraries"
      ],
      "metadata": {
        "id": "m4f3q01VlGuZ"
      }
    },
    {
      "cell_type": "code",
      "source": [
        "import os\n",
        "import pandas as pd\n",
        "import numpy as np\n",
        "import matplotlib.pyplot as plt\n",
        "import seaborn as sns\n",
        "from sklearn.model_selection import train_test_split\n",
        "from sklearn.ensemble import RandomForestClassifier\n",
        "from sklearn.model_selection import cross_val_score"
      ],
      "metadata": {
        "id": "qcqx5RVPtL4c"
      },
      "execution_count": null,
      "outputs": []
    },
    {
      "cell_type": "markdown",
      "source": [
        "# Clone full repo from Github\n",
        "Note: If repo has previously been cloned, but you need to pull latest files, open a Terminal session and run `cd data-innovation-days-2025` to change to the repo directory, then run `git pull origin` to pull all files. Recommend then closing the Colab session and re-starting to ensure everything refreshes.\n"
      ],
      "metadata": {
        "id": "LZhYKrAqS0Az"
      }
    },
    {
      "cell_type": "code",
      "source": [
        "if not os.path.exists('data-innovation-days-2025'):\n",
        "  !git clone https://github.com/jeffjaylacs/data-innovation-days-2025.git\n",
        "  print(\"Directory 'data-innovation-days-2025' created successfully.\")\n",
        "else:\n",
        "  print(\"Directory 'data-innovation-days-2025' already exists. Skipping clone.\")"
      ],
      "metadata": {
        "id": "Fcu5tMChlQpX"
      },
      "execution_count": null,
      "outputs": []
    },
    {
      "cell_type": "markdown",
      "source": [
        "# Read and preview data"
      ],
      "metadata": {
        "id": "5sqgGXTBTARl"
      }
    },
    {
      "cell_type": "code",
      "source": [
        "df = pd.read_csv('data-innovation-days-2025/data/train_subset.csv')\n",
        "display(df.head(10))"
      ],
      "metadata": {
        "id": "2da2lwOrtfJU"
      },
      "execution_count": null,
      "outputs": []
    },
    {
      "cell_type": "markdown",
      "source": [
        "# Exploratory Data Analysis"
      ],
      "metadata": {
        "id": "FMZd4fggUeTE"
      }
    },
    {
      "cell_type": "markdown",
      "source": [
        "## Univariate analysis"
      ],
      "metadata": {
        "id": "WNnBlzssUoak"
      }
    },
    {
      "cell_type": "code",
      "source": [
        "# Univariate Analysis on the 'cap-diameter' column\n",
        "\n",
        "# 1. Descriptive Statistics\n",
        "print(\"\\nDescriptive Statistics:\")\n",
        "print(df['cap-diameter'].describe())\n",
        "\n",
        "# 2. Visualization: Histogram\n",
        "plt.figure(figsize=(10, 5))\n",
        "plt.subplot(1, 2, 1)\n",
        "sns.histplot(df['cap-diameter'], bins=20, kde=True)\n",
        "plt.title('cap-diameter Distribution')\n",
        "plt.xlabel('cap-diameter')\n",
        "plt.ylabel('Frequency')\n",
        "\n",
        "# 3. Visualization: Box Plot\n",
        "plt.subplot(1, 2, 2)\n",
        "sns.boxplot(x=df['cap-diameter'])\n",
        "plt.title('Box Plot of cap-diameter')\n",
        "plt.xlabel('cap-diameter')\n",
        "\n",
        "# Show the plots\n",
        "plt.tight_layout()\n",
        "plt.show()"
      ],
      "metadata": {
        "id": "eZNcmmKUzPCT"
      },
      "execution_count": null,
      "outputs": []
    },
    {
      "cell_type": "code",
      "source": [
        "# Univariate Analysis on the 'gill-spacing' column\n",
        "\n",
        "# 1. Fill missing values with a placeholder for visualization purposes\n",
        "df['gill-spacing'] = df['gill-spacing'].fillna('Missing')\n",
        "\n",
        "# 2. Frequency distribution\n",
        "frequency_distribution = df['gill-spacing'].value_counts()\n",
        "print(\"\\nFrequency Distribution:\")\n",
        "print(frequency_distribution)\n",
        "\n",
        "# 3. Descriptive statistics for categorical data\n",
        "descriptive_stats = df['gill-spacing'].describe()\n",
        "print(\"\\nDescriptive Statistics:\")\n",
        "print(descriptive_stats)\n",
        "\n",
        "# 4. Visualization: Bar Plot\n",
        "plt.figure(figsize=(8, 5))\n",
        "sns.countplot(data=df, x='gill-spacing',palette='deep')\n",
        "plt.title('Count of gill-spacing')\n",
        "plt.xlabel('gill-spacing')\n",
        "plt.ylabel('Count')\n",
        "plt.xticks(rotation=0)\n",
        "plt.show()"
      ],
      "metadata": {
        "id": "AFVesiYyzUUC"
      },
      "execution_count": null,
      "outputs": []
    },
    {
      "cell_type": "code",
      "source": [
        "# Count missing values in each column\n",
        "missing_values_count = df.isna().sum()\n",
        "\n",
        "# Calculate the percentage of missing values in each column\n",
        "missing_values_percent = (missing_values_count / len(df)) * 100\n",
        "\n",
        "# Combine the results into a DataFrame for better readability\n",
        "missing_summary = pd.DataFrame({\n",
        "    'Missing Count': missing_values_count,\n",
        "    'Missing Percentage': missing_values_percent\n",
        "})\n",
        "\n",
        "# Print the results\n",
        "print(\"\\nMissing Values Count and Percentage in Each Column:\")\n",
        "print(missing_summary)"
      ],
      "metadata": {
        "id": "B7Wvnzntzfkt"
      },
      "execution_count": null,
      "outputs": []
    },
    {
      "cell_type": "markdown",
      "source": [
        "## Weight of Evidence  \n",
        "WoE provides insights into the relationship between a predictor variable (i.e. a feature) and the target variable. It is frequently used in logistic regression for understanding how each bin relates to the target, but can be helpful as part of EDA for any type of classification model."
      ],
      "metadata": {
        "id": "xtGSK6FbVTCy"
      }
    },
    {
      "cell_type": "code",
      "source": [
        "# Calculate the total number of edible (good) and poisonous (bad) outcomes\n",
        "total_edible = df['class'].value_counts().get('e', 0)\n",
        "total_poisonous = df['class'].value_counts().get('p', 0)\n",
        "\n",
        "# Calculate the distribution of target variable by category\n",
        "woe_df = df.groupby('gill-spacing')['class'].value_counts().unstack(fill_value=0).reset_index()\n",
        "woe_df.columns.name = None  # Remove the name of the index\n",
        "\n",
        "# Rename columns for clarity\n",
        "woe_df.columns = ['gill-spacing', 'edible', 'poisonous']\n",
        "\n",
        "# Calculate the proportions\n",
        "woe_df['edible_proportion'] = woe_df['edible'] / total_edible\n",
        "woe_df['poisonous_proportion'] = woe_df['poisonous'] / total_poisonous\n",
        "\n",
        "# Calculate WoE\n",
        "woe_df['WoE'] = np.log(woe_df['edible_proportion'] / woe_df['poisonous_proportion'])\n",
        "\n",
        "# Display the WoE DataFrame\n",
        "print(\"\\nWeight of Evidence DataFrame:\")\n",
        "print(woe_df[['gill-spacing', 'edible', 'poisonous', 'WoE']])\n",
        "\n",
        "# Visualization\n",
        "plt.figure(figsize=(8, 5))\n",
        "sns.barplot(data=woe_df, x='gill-spacing', y='WoE', palette='pastel')\n",
        "plt.title('Weight of Evidence by gill-spacing')\n",
        "plt.xlabel('gill-spacing')\n",
        "plt.ylabel('Weight of Evidence (WoE)')\n",
        "plt.axhline(0, color='red', linestyle='--')  # Reference line at WoE = 0\n",
        "plt.show()"
      ],
      "metadata": {
        "id": "5y5A_S2czlVM"
      },
      "execution_count": null,
      "outputs": []
    },
    {
      "cell_type": "markdown",
      "source": [
        "# Feature Engineering"
      ],
      "metadata": {
        "id": "dSJWDOUhXIUE"
      }
    },
    {
      "cell_type": "code",
      "source": [
        "# Create a new column 'stem-area' as the product of 'stem-height' and 'stem-width'\n",
        "df['stem-area'] = df['stem-height'] * df['stem-width']\n",
        "\n",
        "# Display the updated DataFrame with the new column\n",
        "print(\"\\nUpdated DataFrame with 'stem-area':\")\n",
        "display(df.head(10))"
      ],
      "metadata": {
        "id": "RUZ3gBslzooo"
      },
      "execution_count": null,
      "outputs": []
    },
    {
      "cell_type": "markdown",
      "source": [
        "# Model Training"
      ],
      "metadata": {
        "id": "L0TxiYfNZaIY"
      }
    },
    {
      "cell_type": "markdown",
      "source": [
        "## Target Definition  \n",
        "Many classification model algorithms require the binary target to be represented by a 1 or 0.  We will call \"poisonous\" our positive class and represent with a 1, and edible will be represented by a 0. Calling a poisonous mushroom the \"positive\" class sounds counter-intuitive, but that type of terminology is common (e.g. a patient test positive for a disease, or a customer defaults on a loan and \"hits the target\", etc."
      ],
      "metadata": {
        "id": "HvrRhTU1edPY"
      }
    },
    {
      "cell_type": "code",
      "source": [
        "df[\"class\"] = df[\"class\"].map({\"e\": 0, \"p\": 1})\n",
        "\n",
        "frequency = df[\"class\"].value_counts()\n",
        "print(frequency)\n"
      ],
      "metadata": {
        "id": "5V3nnDZpfXDG"
      },
      "execution_count": null,
      "outputs": []
    },
    {
      "cell_type": "code",
      "source": [],
      "metadata": {
        "id": "9fovznEOg0yl"
      },
      "execution_count": null,
      "outputs": []
    },
    {
      "cell_type": "markdown",
      "source": [
        "## Create train and test data sets  \n",
        "The model will be built and tuned on the training data.  The test data will be set completely off to the side and only used for final model performance evaluation."
      ],
      "metadata": {
        "id": "1JYWD4igg2Xk"
      }
    },
    {
      "cell_type": "code",
      "source": [
        "# Split the DataFrame.  random_state is a seed for reproducibility purposes.\n",
        "train_df, test_df = train_test_split(df, test_size=0.3, random_state=42)"
      ],
      "metadata": {
        "id": "2KXv6fPYhyFO"
      },
      "execution_count": null,
      "outputs": []
    },
    {
      "cell_type": "markdown",
      "source": [
        "## Train the model"
      ],
      "metadata": {
        "id": "iURu41vLi9lp"
      }
    },
    {
      "cell_type": "code",
      "source": [
        "# Features and target from train_df\n",
        "X = train_df.drop(columns=[\"class\"])\n",
        "y = train_df[\"class\"]\n",
        "\n",
        "# Initialize the model with default hyperparameters\n",
        "rf_model = RandomForestClassifier()\n",
        "\n",
        "# Perform 5-fold cross-validation\n",
        "cv_scores = cross_val_score(rf_model, X, y, cv=5, scoring='accuracy')\n",
        "\n",
        "# Print the cross-validation scores\n",
        "print(\"Cross-validation scores:\", cv_scores)\n",
        "print(\"Mean accuracy:\", cv_scores.mean())\n"
      ],
      "metadata": {
        "id": "Fti4QDtvjaFw"
      },
      "execution_count": null,
      "outputs": []
    },
    {
      "cell_type": "markdown",
      "source": [
        "# Model Evaluation"
      ],
      "metadata": {
        "id": "zhdn0MWo0sjE"
      }
    },
    {
      "cell_type": "code",
      "source": [
        "# Model evaluation placeholder"
      ],
      "metadata": {
        "id": "EaoO2kQZZq1X"
      },
      "execution_count": null,
      "outputs": []
    }
  ],
  "metadata": {
    "colab": {
      "name": "forest.ipynb",
      "provenance": [],
      "history_visible": true,
      "toc_visible": true
    },
    "kernelspec": {
      "display_name": "Python 3",
      "name": "python3"
    }
  },
  "nbformat": 4,
  "nbformat_minor": 0
}