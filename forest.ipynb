{
  "cells": [
    {
      "cell_type": "markdown",
      "source": [
        "Load Libraries"
      ],
      "metadata": {
        "id": "m4f3q01VlGuZ"
      }
    },
    {
      "cell_type": "code",
      "source": [
        "import os\n",
        "import pandas as pd"
      ],
      "metadata": {
        "id": "qcqx5RVPtL4c"
      },
      "execution_count": 9,
      "outputs": []
    },
    {
      "cell_type": "code",
      "source": [
        "if not os.path.exists('data-innovation-days-2025'):\n",
        "  !git clone https://github.com/jeffjaylacs/data-innovation-days-2025.git\n",
        "  print(\"Directory 'data-innovation-days-2025' created successfully.\")\n",
        "else:\n",
        "  print(\"Directory 'data-innovation-days-2025' already exists. Skipping clone.\")"
      ],
      "metadata": {
        "id": "Fcu5tMChlQpX"
      },
      "execution_count": null,
      "outputs": []
    },
    {
      "cell_type": "code",
      "source": [
        "df = pd.read_csv('data-innovation-days-2025/data/train_subset.csv')\n",
        "display(df.head(10))"
      ],
      "metadata": {
        "id": "2da2lwOrtfJU"
      },
      "execution_count": null,
      "outputs": []
    }
  ],
  "metadata": {
    "colab": {
      "name": "beginner.ipynb",
      "toc_visible": true,
      "provenance": [],
      "history_visible": true
    },
    "kernelspec": {
      "display_name": "Python 3",
      "name": "python3"
    }
  },
  "nbformat": 4,
  "nbformat_minor": 0
}