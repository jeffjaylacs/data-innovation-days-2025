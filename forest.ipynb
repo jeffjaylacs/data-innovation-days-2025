{
  "cells": [
    {
      "cell_type": "markdown",
      "source": [
        "# Overview  \n",
        "\n",
        "This is an example notebook demonstrating some basic principles of building an ML model using a random forest classifier. It uses a dataset of mushrooms labeled as poisonous or edible.  The original dataset is located at https://www.kaggle.com/competitions/playground-series-s4e8/data?select=train.csv.  \n",
        "\n",
        "The data dictionary for the dataset is provided below."
      ],
      "metadata": {
        "id": "hQSXTqlJJ53H"
      }
    },
    {
      "cell_type": "markdown",
      "source": [
        "## Data Dictionary  \n",
        "\n",
        "* __cap-diameter (m):__ float number in cm\n",
        "* __cap-shape (n):__ bell=b, conical=c, convex=x, flat=f, sunken=s, spherical=p, others=o\n",
        "* __cap-surface (n):__ fibrous=i, grooves=g, scaly=y, smooth=s, dry=d, shiny=h, leathery=l, silky=k, sticky=t, wrinkled=w, fleshy=e\n",
        "* __cap-color (n):__ brown=n, buff=b, gray=g, green=r, pink=p, purple=u, red=e, white=w, yellow=y, blue=l, orange=o, black=k\n",
        "* __does-bruise-bleed (n):__ bruises-or-bleeding=t,no=f\n",
        "* __gill-attachment (n):__ adnate=a, adnexed=x, decurrent=d, free=e, sinuate=s, pores=p, none=f, unknown=?\n",
        "* __gill-spacing (n):__ close=c, distant=d, none=f\n",
        "* __gill-color (n):__ see cap-color + none=f\n",
        "* __stem-height (m):__ float number in cm\n",
        "* __stem-width (m):__ float number in mm\n",
        "* __stem-root (n):__ bulbous=b, swollen=s, club=c, cup=u, equal=e, rhizomorphs=z, rooted=r\n",
        "* __stem-surface (n):__ see cap-surface + none=f\n",
        "* __stem-color (n):__ see cap-color + none=f\n",
        "* __veil-type (n):__ partial=p, universal=u\n",
        "* __veil-color (n):__ see cap-color + none=f\n",
        "* __has-ring (n):__ ring=t, none=f\n",
        "* __ring-type (n):__ cobwebby=c, evanescent=e, flaring=r, grooved=g, large=l, pendant=p, sheathing=s, zone=z, scaly=y, movable=m, none=f, unknown=?\n",
        "* __spore-print-color (n):__ see cap color\n",
        "* __habitat (n):__ grasses=g, leaves=l, meadows=m, paths=p, heaths=h, urban=u, waste=w, woods=d\n",
        "* __season (n):__ spring=s, summer=u, autumn=a, winter=w"
      ],
      "metadata": {
        "id": "GfkVwUIZJkrq"
      }
    },
    {
      "cell_type": "markdown",
      "source": [
        "# Load libraries"
      ],
      "metadata": {
        "id": "m4f3q01VlGuZ"
      }
    },
    {
      "cell_type": "code",
      "source": [
        "import os\n",
        "import pandas as pd\n",
        "import numpy as np\n",
        "import matplotlib.pyplot as plt\n",
        "import seaborn as sns\n",
        "from sklearn.model_selection import train_test_split\n",
        "from sklearn.ensemble import RandomForestClassifier\n",
        "from sklearn.model_selection import RandomizedSearchCV, cross_val_score\n",
        "from sklearn.metrics import roc_curve, auc"
      ],
      "metadata": {
        "id": "qcqx5RVPtL4c"
      },
      "execution_count": null,
      "outputs": []
    },
    {
      "cell_type": "markdown",
      "source": [
        "# Clone full repo from Github\n",
        "Note: If repo has previously been cloned, but you need to pull latest files, open a Terminal session and run `cd data-innovation-days-2025` to change to the repo directory, then run `git pull origin` to pull all files. Recommend then closing the Colab session and re-starting to ensure everything refreshes.\n"
      ],
      "metadata": {
        "id": "LZhYKrAqS0Az"
      }
    },
    {
      "cell_type": "code",
      "source": [
        "if not os.path.exists('data-innovation-days-2025'):\n",
        "  !git clone https://github.com/jeffjaylacs/data-innovation-days-2025.git\n",
        "  print(\"Directory 'data-innovation-days-2025' created successfully.\")\n",
        "else:\n",
        "  print(\"Directory 'data-innovation-days-2025' already exists. Skipping clone.\")"
      ],
      "metadata": {
        "id": "Fcu5tMChlQpX"
      },
      "execution_count": null,
      "outputs": []
    },
    {
      "cell_type": "markdown",
      "source": [
        "# Read and preview data"
      ],
      "metadata": {
        "id": "5sqgGXTBTARl"
      }
    },
    {
      "cell_type": "code",
      "source": [
        "df = pd.read_csv('data-innovation-days-2025/data/train_subset.csv')\n",
        "print(\"The original data contains the following number of rows and columns: \", (df.shape))\n",
        "\n",
        "# Sample a percentage of the data frame to speed up model training times for this example notebook\n",
        "df = df.sample(frac=0.25, random_state=42)  # random_state ensures reproducibility\n",
        "display(df.head(10))"
      ],
      "metadata": {
        "id": "2da2lwOrtfJU"
      },
      "execution_count": null,
      "outputs": []
    },
    {
      "cell_type": "markdown",
      "source": [
        "# Exploratory Data Analysis"
      ],
      "metadata": {
        "id": "FMZd4fggUeTE"
      }
    },
    {
      "cell_type": "markdown",
      "source": [
        "## Univariate analysis"
      ],
      "metadata": {
        "id": "WNnBlzssUoak"
      }
    },
    {
      "cell_type": "code",
      "source": [
        "# Univariate Analysis on the 'cap-diameter' column\n",
        "\n",
        "# 1. Descriptive Statistics\n",
        "print(\"\\nDescriptive Statistics:\")\n",
        "print(df['cap-diameter'].describe())\n",
        "\n",
        "# 2. Visualization: Histogram\n",
        "plt.figure(figsize=(10, 5))\n",
        "plt.subplot(1, 2, 1)\n",
        "sns.histplot(df['cap-diameter'], bins=20, kde=True)\n",
        "plt.title('cap-diameter Distribution')\n",
        "plt.xlabel('cap-diameter')\n",
        "plt.ylabel('Frequency')\n",
        "\n",
        "# 3. Visualization: Box Plot\n",
        "plt.subplot(1, 2, 2)\n",
        "sns.boxplot(x=df['cap-diameter'])\n",
        "plt.title('Box Plot of cap-diameter')\n",
        "plt.xlabel('cap-diameter')\n",
        "\n",
        "# Show the plots\n",
        "plt.tight_layout()\n",
        "plt.show()"
      ],
      "metadata": {
        "id": "eZNcmmKUzPCT"
      },
      "execution_count": null,
      "outputs": []
    },
    {
      "cell_type": "code",
      "source": [
        "# Univariate Analysis on the 'gill-spacing' column\n",
        "\n",
        "# 1. Fill missing values with a placeholder for visualization purposes\n",
        "df['gill-spacing'] = df['gill-spacing'].fillna('Missing')\n",
        "\n",
        "# 2. Frequency distribution\n",
        "frequency_distribution = df['gill-spacing'].value_counts()\n",
        "print(\"\\nFrequency Distribution:\")\n",
        "print(frequency_distribution)\n",
        "\n",
        "# 3. Descriptive statistics for categorical data\n",
        "descriptive_stats = df['gill-spacing'].describe()\n",
        "print(\"\\nDescriptive Statistics:\")\n",
        "print(descriptive_stats)\n",
        "\n",
        "# 4. Visualization: Bar Plot\n",
        "plt.figure(figsize=(8, 5))\n",
        "sns.countplot(data=df, x='gill-spacing',palette='deep')\n",
        "plt.title('Count of gill-spacing')\n",
        "plt.xlabel('gill-spacing')\n",
        "plt.ylabel('Count')\n",
        "plt.xticks(rotation=0)\n",
        "plt.show()"
      ],
      "metadata": {
        "id": "AFVesiYyzUUC"
      },
      "execution_count": null,
      "outputs": []
    },
    {
      "cell_type": "code",
      "source": [
        "# Count missing values in each column\n",
        "missing_values_count = df.isna().sum()\n",
        "\n",
        "# Calculate the percentage of missing values in each column\n",
        "missing_values_percent = (missing_values_count / len(df)) * 100\n",
        "\n",
        "# Combine the results into a DataFrame for better readability\n",
        "missing_summary = pd.DataFrame({\n",
        "    'Missing Count': missing_values_count,\n",
        "    'Missing Percentage': missing_values_percent\n",
        "})\n",
        "\n",
        "# Print the results\n",
        "print(\"\\nMissing Values Count and Percentage in Each Column:\")\n",
        "print(missing_summary)"
      ],
      "metadata": {
        "id": "B7Wvnzntzfkt"
      },
      "execution_count": null,
      "outputs": []
    },
    {
      "cell_type": "code",
      "source": [
        "frequency_table = df['habitat'].value_counts()\n",
        "\n",
        "print(frequency_table)"
      ],
      "metadata": {
        "id": "PVRJhBLWJI_O"
      },
      "execution_count": null,
      "outputs": []
    },
    {
      "cell_type": "markdown",
      "source": [
        "## Weight of Evidence  \n",
        "WoE provides insights into the relationship between a predictor variable (i.e. a feature) and the target variable. It is frequently used in logistic regression for understanding how each bin relates to the target, but can be helpful as part of EDA for any type of classification model.  \n",
        "\n",
        "`WOE = ln(%Non-event / %Event)` for any desired range of the predictor variable to be analyzed."
      ],
      "metadata": {
        "id": "xtGSK6FbVTCy"
      }
    },
    {
      "cell_type": "code",
      "source": [
        "# Calculate the total number of edible (good) and poisonous (bad) outcomes\n",
        "total_edible = df['class'].value_counts().get('e', 0)\n",
        "total_poisonous = df['class'].value_counts().get('p', 0)\n",
        "\n",
        "# Calculate the distribution of target variable by category\n",
        "woe_df = df.groupby('gill-spacing')['class'].value_counts().unstack(fill_value=0).reset_index()\n",
        "woe_df.columns.name = None  # Remove the name of the index\n",
        "\n",
        "# Rename columns for clarity\n",
        "woe_df.columns = ['gill-spacing', 'edible', 'poisonous']\n",
        "\n",
        "# Calculate the proportions\n",
        "woe_df['edible_proportion'] = woe_df['edible'] / total_edible\n",
        "woe_df['poisonous_proportion'] = woe_df['poisonous'] / total_poisonous\n",
        "\n",
        "# Calculate WoE\n",
        "woe_df['WoE'] = np.log(woe_df['edible_proportion'] / woe_df['poisonous_proportion'])\n",
        "\n",
        "# Display the WoE DataFrame\n",
        "print(\"\\nWeight of Evidence DataFrame:\")\n",
        "print(woe_df[['gill-spacing', 'edible', 'poisonous', 'WoE']])\n",
        "\n",
        "# Visualization\n",
        "plt.figure(figsize=(8, 5))\n",
        "sns.barplot(data=woe_df, x='gill-spacing', y='WoE', palette='pastel')\n",
        "plt.title('Weight of Evidence by gill-spacing')\n",
        "plt.xlabel('gill-spacing')\n",
        "plt.ylabel('Weight of Evidence (WoE)')\n",
        "plt.axhline(0, color='red', linestyle='--')  # Reference line at WoE = 0\n",
        "plt.show()"
      ],
      "metadata": {
        "id": "5y5A_S2czlVM"
      },
      "execution_count": null,
      "outputs": []
    },
    {
      "cell_type": "markdown",
      "source": [
        "# Feature Engineering"
      ],
      "metadata": {
        "id": "dSJWDOUhXIUE"
      }
    },
    {
      "cell_type": "code",
      "source": [
        "# Create a new column 'stem-area' as the product of 'stem-height' and 'stem-width'\n",
        "df['stem-area'] = df['stem-height'] * df['stem-width']\n",
        "\n",
        "# Display the updated DataFrame with the new column\n",
        "print(\"\\nUpdated DataFrame with 'stem-area':\")\n",
        "display(df.head(10))"
      ],
      "metadata": {
        "id": "RUZ3gBslzooo"
      },
      "execution_count": null,
      "outputs": []
    },
    {
      "cell_type": "markdown",
      "source": [
        "# Model Training"
      ],
      "metadata": {
        "id": "L0TxiYfNZaIY"
      }
    },
    {
      "cell_type": "markdown",
      "source": [
        "## Model data pre-processing  \n",
        "Pre-processing your data so that it is compatible with common model algorithms is a bit different than the EDA exercise above.  While EDA is by definition \"exporatory\", the pre-processing step is not only conducted on the data during model training, but is then also required and replicated in production on new/live data to make that data suitable for generating predictions with the model.  The steps below get the data ready for model training."
      ],
      "metadata": {
        "id": "8xXbKqDID1-Y"
      }
    },
    {
      "cell_type": "markdown",
      "source": [
        "### Target Definition  \n",
        "Many classification model algorithms require the binary target to be represented by a 1 or 0.  We will call \"poisonous\" our positive class and represent it with a 1, and edible will be represented by a 0. Calling a poisonous mushroom the \"positive\" class sounds counter-intuitive, but that type of terminology is common (e.g. a patient test positive for a disease, or a customer defaults on a loan and \"hits the target\", etc.)"
      ],
      "metadata": {
        "id": "HvrRhTU1edPY"
      }
    },
    {
      "cell_type": "code",
      "source": [
        "df[\"class\"] = df[\"class\"].map({\"e\": 0, \"p\": 1})\n",
        "\n",
        "frequency = df[\"class\"].value_counts()\n",
        "print(frequency)\n"
      ],
      "metadata": {
        "id": "5V3nnDZpfXDG"
      },
      "execution_count": null,
      "outputs": []
    },
    {
      "cell_type": "markdown",
      "source": [
        "### Remove features with no signal  \n",
        "This dataset contains a column called \"id\" that indicates the row in the original dataset. The row number of an independent observation in the data should have no impact on the target variable. If it does, that is a type of data leakage.  For example, what if all the poisonous mushrooms were all listed first in the dataset?  Training on the model with \"id\" would simply be training the model to learn which rows the different types of mushrooms were in!"
      ],
      "metadata": {
        "id": "u5NOPfIXDpyc"
      }
    },
    {
      "cell_type": "code",
      "source": [
        "df = df.drop(columns=['id'])"
      ],
      "metadata": {
        "id": "hWrm8LcRErrb"
      },
      "execution_count": null,
      "outputs": []
    },
    {
      "cell_type": "markdown",
      "source": [
        "### Handling character/string columns  \n",
        "Many python libraries used for training models require character/string columns to converted to numeric values.  There are 2 primary ways to accomplish this: One-hot encoding or indexing."
      ],
      "metadata": {
        "id": "SLz9Q7VDETcw"
      }
    },
    {
      "cell_type": "code",
      "source": [
        "# Step 1: Identify non-numeric columns excluding 'id' and 'class'\n",
        "non_numeric_columns = df.select_dtypes(include=['object']).columns.tolist()\n",
        "non_numeric_columns = [col for col in non_numeric_columns if col not in ['id', 'class']]\n",
        "\n",
        "# Step 2: Identify columns that need indexing\n",
        "indexed_features = ['season'] if 'season' in non_numeric_columns else []\n",
        "non_numeric_columns.remove('season') if 'season' in non_numeric_columns else None\n",
        "\n",
        "# Step 3: Create a mapping for the indexed feature (season) to numeric indices\n",
        "season_mapping = {'s': 0, 'u': 1, 'a': 2, 'w': 3}\n",
        "df['season_index'] = df['season'].map(season_mapping)\n",
        "df.drop(columns=['season'], inplace=True)\n",
        "\n",
        "# Step 4: Apply one-hot encoding to the remaining non-numeric columns\n",
        "df_encoded = pd.get_dummies(df, columns=non_numeric_columns)\n",
        "\n",
        "# Iterate through the columns of the encoded DataFrame and convert boolean columns to integers\n",
        "for col in df_encoded.columns:\n",
        "    if df_encoded[col].dtype == 'bool':  # Check if the column type is boolean\n",
        "        df_encoded[col] = df_encoded[col].astype(int)\n"
      ],
      "metadata": {
        "id": "9fovznEOg0yl"
      },
      "execution_count": null,
      "outputs": []
    },
    {
      "cell_type": "code",
      "source": [
        "column_names = df_encoded.columns.tolist()\n",
        "print(column_names)"
      ],
      "metadata": {
        "id": "bLNbWHL_IGOE"
      },
      "execution_count": null,
      "outputs": []
    },
    {
      "cell_type": "code",
      "source": [
        "display(df_encoded.head(10))\n"
      ],
      "metadata": {
        "id": "gtBxPU-S-YZ5"
      },
      "execution_count": null,
      "outputs": []
    },
    {
      "cell_type": "markdown",
      "source": [
        "## Create train and test data sets  \n",
        "Now that the data has been pre-processed, it is suitable for feeding into the modeling algorithm. The model will be built and tuned on the training data. The test data will be set completely off to the side and only used for final model performance evaluation."
      ],
      "metadata": {
        "id": "1JYWD4igg2Xk"
      }
    },
    {
      "cell_type": "code",
      "source": [
        "# Split the DataFrame.  random_state is a seed for reproducibility purposes.\n",
        "train_df, test_df = train_test_split(df_encoded, test_size=0.3, random_state=42)"
      ],
      "metadata": {
        "id": "2KXv6fPYhyFO"
      },
      "execution_count": null,
      "outputs": []
    },
    {
      "cell_type": "markdown",
      "source": [
        "## Train the model"
      ],
      "metadata": {
        "id": "iURu41vLi9lp"
      }
    },
    {
      "cell_type": "code",
      "source": [
        "# Features and target from train_df\n",
        "X = train_df.drop(columns=[\"class\"])\n",
        "y = train_df[\"class\"]\n",
        "\n",
        "# Initialize the model with default hyperparameters\n",
        "rf_model = RandomForestClassifier(max_depth=5)\n",
        "\n",
        "# Perform 5-fold cross-validation\n",
        "cv_scores = cross_val_score(rf_model, X, y, cv=5, scoring='roc_auc')\n",
        "\n",
        "# Print the cross-validation scores\n",
        "print(\"Cross-validation scores:\", cv_scores)\n",
        "print(\"Mean AUC:\", cv_scores.mean())\n"
      ],
      "metadata": {
        "id": "Fti4QDtvjaFw"
      },
      "execution_count": null,
      "outputs": []
    },
    {
      "cell_type": "code",
      "source": [
        "# Fit the RandomForestClassifier instance\n",
        "rf_fit = rf_model.fit(X, y)"
      ],
      "metadata": {
        "id": "Y6w3NVayBY3n"
      },
      "execution_count": null,
      "outputs": []
    },
    {
      "cell_type": "markdown",
      "source": [
        "# Model Evaluation"
      ],
      "metadata": {
        "id": "zhdn0MWo0sjE"
      }
    },
    {
      "cell_type": "markdown",
      "source": [
        "## Test set performance"
      ],
      "metadata": {
        "id": "s007gs8ZQIjR"
      }
    },
    {
      "cell_type": "code",
      "source": [
        "# Separate features and target from test_df\n",
        "X_test = test_df.drop(columns=['class'])\n",
        "y_true = test_df['class']\n",
        "\n",
        "# Generate predicted probabilities for the positive class\n",
        "y_proba = rf_model.predict_proba(X_test)[:, 1]\n",
        "\n",
        "# Compute ROC curve and AUC score\n",
        "fpr, tpr, _ = roc_curve(y_true, y_proba)\n",
        "roc_auc = auc(fpr, tpr)\n",
        "\n",
        "# Plot ROC curve\n",
        "plt.figure(figsize=(8, 6))\n",
        "plt.plot(fpr, tpr, color='blue', lw=2, label=f'ROC curve (AUC = {roc_auc:.2f})')\n",
        "plt.plot([0, 1], [0, 1], color='gray', linestyle='--')\n",
        "plt.xlim([0.0, 1.0])\n",
        "plt.ylim([0.0, 1.05])\n",
        "plt.xlabel('False Positive Rate')\n",
        "plt.ylabel('True Positive Rate')\n",
        "plt.title('Receiver Operating Characteristic')\n",
        "plt.legend(loc=\"lower right\")\n",
        "plt.grid(True)\n",
        "plt.show()"
      ],
      "metadata": {
        "id": "EaoO2kQZZq1X"
      },
      "execution_count": null,
      "outputs": []
    },
    {
      "cell_type": "markdown",
      "source": [
        "## Feature importance  \n",
        "Examine the relative importance of the most impactful features in the model."
      ],
      "metadata": {
        "id": "Qy8nDZW2QOcx"
      }
    },
    {
      "cell_type": "code",
      "source": [
        "# Create a DataFrame of feature importances\n",
        "importance_df = pd.DataFrame({\n",
        "    'Feature': X_test.columns,\n",
        "    'Importance': rf_model.feature_importances_\n",
        "})\n",
        "\n",
        "# Sort by importance\n",
        "importance_df = importance_df.sort_values(by='Importance', ascending=False)\n",
        "\n",
        "display(importance_df.head(15))"
      ],
      "metadata": {
        "id": "KvapGUWTQWZh"
      },
      "execution_count": null,
      "outputs": []
    },
    {
      "cell_type": "markdown",
      "source": [
        "## Examine model parameters  \n",
        "View (and eventually understand) all the parameters associated with the model object. Learn how they can be modified and/or optimized to best meet objectives of the model."
      ],
      "metadata": {
        "id": "0AZSpF5_SRDF"
      }
    },
    {
      "cell_type": "code",
      "source": [
        "# Print model information\n",
        "print(\"Model Parameters:\")\n",
        "print(rf_model.get_params())"
      ],
      "metadata": {
        "id": "BeVXST4_SXyU"
      },
      "execution_count": null,
      "outputs": []
    },
    {
      "cell_type": "markdown",
      "source": [
        "# Bonus Content!\n",
        "\n",
        "Here is another model fitting example that runs a small hyper parameter optimization. It takes longer to run, because it is trying 10 random hyper-parameter combinations for each iteratation of the k-fold model training. It takes a while to execute, so we won't run it during the session, but try it on your own later."
      ],
      "metadata": {
        "id": "DcBQC-uyMVTB"
      }
    },
    {
      "cell_type": "code",
      "source": [
        "rf_model_tuned = RandomForestClassifier(random_state=42)\n",
        "\n",
        "# Define the hyperparameter space\n",
        "param_dist = {\n",
        "    'n_estimators': [25, 50, 100],\n",
        "    'max_depth': [5, 10, 15],\n",
        "    'min_samples_split': [5, 10],\n",
        "    'min_samples_leaf': [2, 4]\n",
        "}\n",
        "\n",
        "# Set up RandomizedSearchCV\n",
        "random_search = RandomizedSearchCV(\n",
        "    estimator=rf_model_tuned,\n",
        "    param_distributions=param_dist,\n",
        "    n_iter=7,  # number of random combinations to try\n",
        "    cv=5,       # number of cross-validation folds\n",
        "    scoring='roc_auc',\n",
        "    random_state=42\n",
        ")\n",
        "\n",
        "# Fit the random search\n",
        "random_search.fit(X, y)\n",
        "\n",
        "# Best model from random search\n",
        "best_model = random_search.best_estimator_\n",
        "\n",
        "# Evaluate using cross_val_score\n",
        "scores = cross_val_score(best_model, X, y, cv=5, scoring='roc_auc')\n",
        "print(\"Cross-validation scores:\", scores)\n",
        "print(\"Mean AUC:\", np.mean(scores))\n"
      ],
      "metadata": {
        "id": "QjoZsmuxMkZf",
        "outputId": "be63239e-e296-4ef4-8911-f75bae106ce7",
        "colab": {
          "base_uri": "https://localhost:8080/"
        }
      },
      "execution_count": 191,
      "outputs": [
        {
          "output_type": "stream",
          "name": "stdout",
          "text": [
            "Cross-validation scores: [0.995818   0.99716117 0.99626901 0.99563955 0.99621428]\n",
            "Mean AUC: 0.9962203986768415\n"
          ]
        }
      ]
    },
    {
      "cell_type": "code",
      "source": [
        "# Separate features and target from test_df\n",
        "X_test = test_df.drop(columns=['class'])\n",
        "y_true = test_df['class']\n",
        "\n",
        "# Generate predicted probabilities for the positive class\n",
        "y_proba = best_model.predict_proba(X_test)[:, 1]\n",
        "\n",
        "# Compute ROC curve and AUC score\n",
        "fpr, tpr, _ = roc_curve(y_true, y_proba)\n",
        "roc_auc = auc(fpr, tpr)\n",
        "\n",
        "# Plot ROC curve\n",
        "plt.figure(figsize=(8, 6))\n",
        "plt.plot(fpr, tpr, color='blue', lw=2, label=f'ROC curve (AUC = {roc_auc:.2f})')\n",
        "plt.plot([0, 1], [0, 1], color='gray', linestyle='--')\n",
        "plt.xlim([0.0, 1.0])\n",
        "plt.ylim([0.0, 1.05])\n",
        "plt.xlabel('False Positive Rate')\n",
        "plt.ylabel('True Positive Rate')\n",
        "plt.title('Receiver Operating Characteristic')\n",
        "plt.legend(loc=\"lower right\")\n",
        "plt.grid(True)\n",
        "plt.show()"
      ],
      "metadata": {
        "id": "GMyw65EfPvsS",
        "outputId": "8fc643a5-12fe-4978-f834-fa0407d9396e",
        "colab": {
          "base_uri": "https://localhost:8080/",
          "height": 564
        }
      },
      "execution_count": 192,
      "outputs": [
        {
          "output_type": "display_data",
          "data": {
            "text/plain": [
              "<Figure size 800x600 with 1 Axes>"
            ],
            "image/png": "[encoded data removed]"
          },
          "metadata": {}
        }
      ]
    },
    {
      "cell_type": "markdown",
      "source": [
        "## Further questions....  \n",
        "1. Are these results realistic?\n",
        "1. Is the model over-fit?\n",
        "1. Is there data leakage?\n",
        "1. Is this data set just really easy to train on?"
      ],
      "metadata": {
        "id": "04_4bBAsS491"
      }
    }
  ],
  "metadata": {
    "colab": {
      "name": "forest.ipynb",
      "provenance": [],
      "toc_visible": true
    },
    "kernelspec": {
      "display_name": "Python 3",
      "name": "python3"
    }
  },
  "nbformat": 4,
  "nbformat_minor": 0
}